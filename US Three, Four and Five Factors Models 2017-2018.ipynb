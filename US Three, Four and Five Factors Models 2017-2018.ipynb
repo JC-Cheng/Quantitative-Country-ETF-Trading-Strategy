{
 "cells": [
  {
   "cell_type": "markdown",
   "metadata": {},
   "source": [
    "US Three and Five Factors Models 2017-2018"
   ]
  },
  {
   "cell_type": "code",
   "execution_count": 132,
   "metadata": {},
   "outputs": [],
   "source": [
    "#import working libraries \n",
    "import datetime\n",
    "import pandas_datareader as pdr\n",
    "import pandas as pd\n",
    "import pandas_datareader.data as web\n",
    "import statsmodels.tsa.stattools as ts\n",
    "import numpy as np\n",
    "from sklearn.model_selection import train_test_split\n",
    "from sklearn.linear_model import Ridge\n",
    "from sklearn.metrics import mean_squared_error\n",
    "from sklearn.metrics import r2_score\n",
    "from sklearn.linear_model import Lasso\n",
    "from sklearn.linear_model import ElasticNet"
   ]
  },
  {
   "cell_type": "markdown",
   "metadata": {},
   "source": [
    "Duration 2017-2018"
   ]
  },
  {
   "cell_type": "code",
   "execution_count": 2,
   "metadata": {},
   "outputs": [],
   "source": [
    "#start and end time\n",
    "start = datetime.datetime(2017, 1, 3)\n",
    "end = datetime.datetime(2018, 12, 31) "
   ]
  },
  {
   "cell_type": "markdown",
   "metadata": {},
   "source": [
    "Fama French Models"
   ]
  },
  {
   "cell_type": "code",
   "execution_count": 3,
   "metadata": {},
   "outputs": [],
   "source": [
    "#factor 3 and factor 5 data\n",
    "FF3_factors = pdr.DataReader(\"F-F_Research_Data_Factors_daily\", \"famafrench\")[0]\n",
    "FF3_factors.index = pd.to_datetime(FF3_factors.index, format=\"%Y%m%d\", utc=True)\n",
    " \n",
    "FF5_factors = pdr.DataReader(\"F-F_Research_Data_5_Factors_2x3_Daily\", \"famafrench\")[0]\n",
    "FF5_factors.index = pd.to_datetime(FF5_factors.index, format=\"%Y%m%d\", utc=True)\n",
    " \n",
    "FF3_factors=FF3_factors.loc[start:end]\n",
    "FF5_factors=FF5_factors.loc[start:end]"
   ]
  },
  {
   "cell_type": "markdown",
   "metadata": {},
   "source": [
    "ETF"
   ]
  },
  {
   "cell_type": "code",
   "execution_count": 4,
   "metadata": {},
   "outputs": [],
   "source": [
    "#US ETFs\n",
    "ETF_Ticker = ['VOO','ACWI']\n",
    "ETF=['VOO','ACWI']"
   ]
  },
  {
   "cell_type": "code",
   "execution_count": 5,
   "metadata": {},
   "outputs": [],
   "source": [
    "#Save it to dataframe\n",
    "for i in range(2):\n",
    "    ETF[i] = web.DataReader(ETF_Ticker[i], 'yahoo', start, end)\n",
    "    ETF[i]['return']=pd.DataFrame(ETF[i]['Adj Close']).pct_change()"
   ]
  },
  {
   "cell_type": "markdown",
   "metadata": {},
   "source": [
    "Statistical Tests"
   ]
  },
  {
   "cell_type": "code",
   "execution_count": 6,
   "metadata": {},
   "outputs": [],
   "source": [
    "#Test for multinlinearity\n",
    "def Collinearity_Test(df):\n",
    "    cov=df.cov()   \n",
    "    flag=\"\"\n",
    "    eig_vals, eig_vecs = np.linalg.eig(cov)\n",
    "    for i in eig_vals:\n",
    "        if(i>0.0001):\n",
    "            flag=\"not \"\n",
    "    print(\"Time series is \"+flag+\"multilinear.\")"
   ]
  },
  {
   "cell_type": "code",
   "execution_count": 7,
   "metadata": {},
   "outputs": [],
   "source": [
    "#Test for stationarity\n",
    "def ADF_Test(data, lag=0): \n",
    "    data=data.dropna(axis=0)\n",
    "    adf = ts.adfuller(data, maxlag=lag)\n",
    "    if adf[0]> adf[4]['5%']: \n",
    "        print('Time series is nonstationary.')\n",
    "    else:\n",
    "        print('Time series is stationary.')"
   ]
  },
  {
   "cell_type": "code",
   "execution_count": 8,
   "metadata": {},
   "outputs": [],
   "source": [
    "#OLS Model\n",
    "def OLS(Y,X):\n",
    "    X = ts.add_constant(X)\n",
    "    model = ts.OLS(Y,X,missing='drop')\n",
    "    results = model.fit()\n",
    "    print(results.summary())\n",
    "    print(\"\\n\")"
   ]
  },
  {
   "cell_type": "code",
   "execution_count": 9,
   "metadata": {},
   "outputs": [
    {
     "name": "stdout",
     "output_type": "stream",
     "text": [
      "Time series is stationary.\n",
      "Time series is stationary.\n"
     ]
    }
   ],
   "source": [
    "#Perform stationarity test\n",
    "for i in range(2): \n",
    "    ADF_Test(ETF[i]['return'])"
   ]
  },
  {
   "cell_type": "code",
   "execution_count": 10,
   "metadata": {},
   "outputs": [
    {
     "name": "stdout",
     "output_type": "stream",
     "text": [
      "Time series is stationary.\n",
      "Time series is stationary.\n",
      "Time series is stationary.\n"
     ]
    }
   ],
   "source": [
    "#Perform stationarity test\n",
    "ADF_Test(FF3_factors['Mkt-RF'])\n",
    "ADF_Test(FF3_factors['SMB'])\n",
    "ADF_Test(FF3_factors['HML'])"
   ]
  },
  {
   "cell_type": "code",
   "execution_count": 11,
   "metadata": {},
   "outputs": [
    {
     "name": "stdout",
     "output_type": "stream",
     "text": [
      "Time series is not multilinear.\n"
     ]
    }
   ],
   "source": [
    "#Perform multilinearity test\n",
    "Collinearity_Test(pd.DataFrame(FF3_factors[['Mkt-RF','SMB','HML']]))"
   ]
  },
  {
   "cell_type": "markdown",
   "metadata": {},
   "source": [
    "US Three Factors"
   ]
  },
  {
   "cell_type": "code",
   "execution_count": 12,
   "metadata": {},
   "outputs": [
    {
     "name": "stdout",
     "output_type": "stream",
     "text": [
      "VOO\n",
      "                            OLS Regression Results                            \n",
      "==============================================================================\n",
      "Dep. Variable:                      0   R-squared:                       1.000\n",
      "Model:                            OLS   Adj. R-squared:                  1.000\n",
      "Method:                 Least Squares   F-statistic:                 3.912e+08\n",
      "Date:                Tue, 24 Mar 2020   Prob (F-statistic):               0.00\n",
      "Time:                        21:03:12   Log-Likelihood:                 3060.5\n",
      "No. Observations:                 501   AIC:                            -6113.\n",
      "Df Residuals:                     497   BIC:                            -6096.\n",
      "Df Model:                           3                                         \n",
      "Covariance Type:            nonrobust                                         \n",
      "==============================================================================\n",
      "                 coef    std err          t      P>|t|      [0.025      0.975]\n",
      "------------------------------------------------------------------------------\n",
      "const       3.891e-05   2.42e-05      1.606      0.109   -8.69e-06    8.65e-05\n",
      "Mkt-RF        -0.9902   2.97e-05  -3.33e+04      0.000      -0.990      -0.990\n",
      "SMB           -0.0013   4.86e-05    -27.584      0.000      -0.001      -0.001\n",
      "HML        -1.657e-05   4.61e-05     -0.360      0.719      -0.000     7.4e-05\n",
      "==============================================================================\n",
      "Omnibus:                       18.078   Durbin-Watson:                   2.376\n",
      "Prob(Omnibus):                  0.000   Jarque-Bera (JB):               42.047\n",
      "Skew:                          -0.057   Prob(JB):                     7.41e-10\n",
      "Kurtosis:                       4.415   Cond. No.                         2.07\n",
      "==============================================================================\n",
      "\n",
      "Warnings:\n",
      "[1] Standard Errors assume that the covariance matrix of the errors is correctly specified.\n",
      "\n",
      "\n",
      "ACWI\n",
      "                            OLS Regression Results                            \n",
      "==============================================================================\n",
      "Dep. Variable:                      0   R-squared:                       1.000\n",
      "Model:                            OLS   Adj. R-squared:                  1.000\n",
      "Method:                 Least Squares   F-statistic:                 2.592e+07\n",
      "Date:                Tue, 24 Mar 2020   Prob (F-statistic):               0.00\n",
      "Time:                        21:03:12   Log-Likelihood:                 2380.0\n",
      "No. Observations:                 501   AIC:                            -4752.\n",
      "Df Residuals:                     497   BIC:                            -4735.\n",
      "Df Model:                           3                                         \n",
      "Covariance Type:            nonrobust                                         \n",
      "==============================================================================\n",
      "                 coef    std err          t      P>|t|      [0.025      0.975]\n",
      "------------------------------------------------------------------------------\n",
      "const       1.787e-05   9.42e-05      0.190      0.850      -0.000       0.000\n",
      "Mkt-RF        -0.9913      0.000  -8579.655      0.000      -0.992      -0.991\n",
      "SMB           -0.0008      0.000     -4.268      0.000      -0.001      -0.000\n",
      "HML            0.0001      0.000      0.801      0.424      -0.000       0.000\n",
      "==============================================================================\n",
      "Omnibus:                       10.051   Durbin-Watson:                   2.073\n",
      "Prob(Omnibus):                  0.007   Jarque-Bera (JB):               12.164\n",
      "Skew:                          -0.228   Prob(JB):                      0.00228\n",
      "Kurtosis:                       3.612   Cond. No.                         2.07\n",
      "==============================================================================\n",
      "\n",
      "Warnings:\n",
      "[1] Standard Errors assume that the covariance matrix of the errors is correctly specified.\n",
      "\n",
      "\n"
     ]
    }
   ],
   "source": [
    "#Perform 3 factors model for ETF daily return \n",
    "for i in range(2): \n",
    "    print(ETF_Ticker[i])\n",
    "    Y = pd.DataFrame(ETF[i]['return'] - FF3_factors['Mkt-RF'])\n",
    "    X = FF3_factors[['Mkt-RF','SMB','HML']]\n",
    "    OLS(Y,X)"
   ]
  },
  {
   "cell_type": "markdown",
   "metadata": {},
   "source": [
    "US Four Factors Model"
   ]
  },
  {
   "cell_type": "code",
   "execution_count": 16,
   "metadata": {},
   "outputs": [
    {
     "name": "stderr",
     "output_type": "stream",
     "text": [
      "C:\\Users\\User\\Anaconda3\\lib\\site-packages\\ipykernel_launcher.py:2: FutureWarning: the 'parse_cols' keyword is deprecated, use 'usecols' instead\n",
      "  \n",
      "C:\\Users\\User\\Anaconda3\\lib\\site-packages\\pandas\\util\\_decorators.py:178: FutureWarning: the 'skip_footer' keyword is deprecated, use 'skipfooter' instead\n",
      "  return func(*args, **kwargs)\n",
      "C:\\Users\\User\\Anaconda3\\lib\\site-packages\\pandas\\io\\excel.py:329: FutureWarning: The `sheetname` keyword is deprecated, use `sheet_name` instead\n",
      "  **kwds)\n",
      "C:\\Users\\User\\Anaconda3\\lib\\site-packages\\ipykernel_launcher.py:3: FutureWarning: the 'parse_cols' keyword is deprecated, use 'usecols' instead\n",
      "  This is separate from the ipykernel package so we can avoid doing imports until\n",
      "C:\\Users\\User\\Anaconda3\\lib\\site-packages\\ipykernel_launcher.py:4: FutureWarning: the 'parse_cols' keyword is deprecated, use 'usecols' instead\n",
      "  after removing the cwd from sys.path.\n",
      "C:\\Users\\User\\Anaconda3\\lib\\site-packages\\ipykernel_launcher.py:5: FutureWarning: the 'parse_cols' keyword is deprecated, use 'usecols' instead\n",
      "  \"\"\"\n",
      "C:\\Users\\User\\Anaconda3\\lib\\site-packages\\ipykernel_launcher.py:6: FutureWarning: the 'parse_cols' keyword is deprecated, use 'usecols' instead\n",
      "  \n"
     ]
    }
   ],
   "source": [
    "#Convert excel to lists of the daily factors from AQR Capital Management \n",
    "AQR_MKT = pd.read_excel(\"Betting Against Beta Equity Factors Daily.xlsx\",sheetname='MKT',skiprows=22888,skip_footer=284,names=[\"Date\",\"MKT\"],parse_cols=\"A,Z\")\n",
    "AQR_RF = pd.read_excel(\"Betting Against Beta Equity Factors Daily.xlsx\",sheetname='RF',skiprows=24764,skip_footer=304,names=[\"Date\",\"RF\"],parse_cols=\"A,B\")\n",
    "AQR_BAB = pd.read_excel(\"Betting Against Beta Equity Factors Daily.xlsx\",sheetname='BAB Factors',skiprows=22888,skip_footer=284,names=[\"Date\",\"BAB\"],parse_cols=\"A,Z\")\n",
    "AQR_QMJ = pd.read_excel(\"Quality Minus Junk Factors Daily.xlsx\",sheetname='QMJ Factors',skiprows=15288,skip_footer=286,names=[\"Date\",\"QMJ\"],parse_cols=\"A,Z\")\n",
    "AQR_SMB = pd.read_excel(\"Betting Against Beta Equity Factors Daily.xlsx\",sheetname='SMB',skiprows=22888,skip_footer=284,names=[\"Date\",\"SMB\"],parse_cols=\"A,Z\")"
   ]
  },
  {
   "cell_type": "code",
   "execution_count": 17,
   "metadata": {},
   "outputs": [],
   "source": [
    "#Prepare biannual AQR 4 factors for ETF daily return  \n",
    "AQR_MKTRF=AQR_MKT.set_index('Date')[1309:]['MKT'].sub(AQR_RF.set_index('Date')['RF'])\n",
    "AQR_BAB=AQR_BAB.set_index('Date')['BAB']\n",
    "AQR_QMJ=AQR_QMJ.set_index('Date')['QMJ']\n",
    "AQR_SMB=AQR_SMB.set_index('Date')[1309:]['SMB']"
   ]
  },
  {
   "cell_type": "code",
   "execution_count": 18,
   "metadata": {},
   "outputs": [
    {
     "name": "stdout",
     "output_type": "stream",
     "text": [
      "VOO\n",
      "                            OLS Regression Results                            \n",
      "==============================================================================\n",
      "Dep. Variable:                      y   R-squared:                       0.804\n",
      "Model:                            OLS   Adj. R-squared:                  0.802\n",
      "Method:                 Least Squares   F-statistic:                     527.0\n",
      "Date:                Tue, 24 Mar 2020   Prob (F-statistic):          1.84e-180\n",
      "Time:                        21:16:07   Log-Likelihood:                 2196.2\n",
      "No. Observations:                 520   AIC:                            -4382.\n",
      "Df Residuals:                     515   BIC:                            -4361.\n",
      "Df Model:                           4                                         \n",
      "Covariance Type:            nonrobust                                         \n",
      "==============================================================================\n",
      "                 coef    std err          t      P>|t|      [0.025      0.975]\n",
      "------------------------------------------------------------------------------\n",
      "const       6.525e-05      0.000      0.410      0.682      -0.000       0.000\n",
      "Unnamed 0      1.2421      0.030     41.610      0.000       1.183       1.301\n",
      "SMB           -0.0883      0.067     -1.310      0.191      -0.221       0.044\n",
      "BAB           -0.2279      0.060     -3.827      0.000      -0.345      -0.111\n",
      "QMJ            0.4737      0.071      6.677      0.000       0.334       0.613\n",
      "==============================================================================\n",
      "Omnibus:                      152.645   Durbin-Watson:                   2.381\n",
      "Prob(Omnibus):                  0.000   Jarque-Bera (JB):             1368.714\n",
      "Skew:                           1.009   Prob(JB):                    6.13e-298\n",
      "Kurtosis:                      10.688   Cond. No.                         513.\n",
      "==============================================================================\n",
      "\n",
      "Warnings:\n",
      "[1] Standard Errors assume that the covariance matrix of the errors is correctly specified.\n",
      "\n",
      "\n",
      "ACWI\n",
      "                            OLS Regression Results                            \n",
      "==============================================================================\n",
      "Dep. Variable:                      y   R-squared:                       0.804\n",
      "Model:                            OLS   Adj. R-squared:                  0.802\n",
      "Method:                 Least Squares   F-statistic:                     527.0\n",
      "Date:                Tue, 24 Mar 2020   Prob (F-statistic):          1.84e-180\n",
      "Time:                        21:16:08   Log-Likelihood:                 2196.2\n",
      "No. Observations:                 520   AIC:                            -4382.\n",
      "Df Residuals:                     515   BIC:                            -4361.\n",
      "Df Model:                           4                                         \n",
      "Covariance Type:            nonrobust                                         \n",
      "==============================================================================\n",
      "                 coef    std err          t      P>|t|      [0.025      0.975]\n",
      "------------------------------------------------------------------------------\n",
      "const       6.525e-05      0.000      0.410      0.682      -0.000       0.000\n",
      "Unnamed 0      1.2421      0.030     41.610      0.000       1.183       1.301\n",
      "SMB           -0.0883      0.067     -1.310      0.191      -0.221       0.044\n",
      "BAB           -0.2279      0.060     -3.827      0.000      -0.345      -0.111\n",
      "QMJ            0.4737      0.071      6.677      0.000       0.334       0.613\n",
      "==============================================================================\n",
      "Omnibus:                      152.645   Durbin-Watson:                   2.381\n",
      "Prob(Omnibus):                  0.000   Jarque-Bera (JB):             1368.714\n",
      "Skew:                           1.009   Prob(JB):                    6.13e-298\n",
      "Kurtosis:                      10.688   Cond. No.                         513.\n",
      "==============================================================================\n",
      "\n",
      "Warnings:\n",
      "[1] Standard Errors assume that the covariance matrix of the errors is correctly specified.\n",
      "\n",
      "\n"
     ]
    }
   ],
   "source": [
    "#Perform biannual AQR 4 factors model for ETF daily return \n",
    "for i in range(2): \n",
    "    print(ETF_Ticker[i])\n",
    "    Y = (ETF[0]['return']-AQR_RF.set_index('Date')['RF']).fillna(0)   \n",
    "    X = pd.DataFrame([AQR_MKTRF,AQR_SMB,AQR_BAB,AQR_QMJ]).T.fillna(0)    \n",
    "    OLS(Y,X)"
   ]
  },
  {
   "cell_type": "markdown",
   "metadata": {},
   "source": [
    "US Five Factors Model"
   ]
  },
  {
   "cell_type": "code",
   "execution_count": 13,
   "metadata": {},
   "outputs": [
    {
     "name": "stdout",
     "output_type": "stream",
     "text": [
      "Time series is stationary.\n",
      "Time series is stationary.\n",
      "Time series is stationary.\n",
      "Time series is stationary.\n",
      "Time series is stationary.\n"
     ]
    }
   ],
   "source": [
    "#Perform stationarity test\n",
    "ADF_Test(FF5_factors['Mkt-RF'])\n",
    "ADF_Test(FF5_factors['SMB'])\n",
    "ADF_Test(FF5_factors['HML'])\n",
    "ADF_Test(FF5_factors['RMW'])\n",
    "ADF_Test(FF5_factors['CMA'])"
   ]
  },
  {
   "cell_type": "code",
   "execution_count": 14,
   "metadata": {},
   "outputs": [
    {
     "name": "stdout",
     "output_type": "stream",
     "text": [
      "Time series is not multilinear.\n"
     ]
    }
   ],
   "source": [
    "#Perform multilinearity test\n",
    "Collinearity_Test(pd.DataFrame(FF5_factors[['Mkt-RF','SMB','HML','RMW','CMA']]))"
   ]
  },
  {
   "cell_type": "code",
   "execution_count": 20,
   "metadata": {},
   "outputs": [
    {
     "name": "stdout",
     "output_type": "stream",
     "text": [
      "VOO\n",
      "                            OLS Regression Results                            \n",
      "==============================================================================\n",
      "Dep. Variable:                      0   R-squared:                       0.930\n",
      "Model:                            OLS   Adj. R-squared:                  0.930\n",
      "Method:                 Least Squares   F-statistic:                     1321.\n",
      "Date:                Tue, 24 Mar 2020   Prob (F-statistic):          1.34e-283\n",
      "Time:                        21:17:05   Log-Likelihood:                 2337.4\n",
      "No. Observations:                 501   AIC:                            -4663.\n",
      "Df Residuals:                     495   BIC:                            -4637.\n",
      "Df Model:                           5                                         \n",
      "Covariance Type:            nonrobust                                         \n",
      "==============================================================================\n",
      "                 coef    std err          t      P>|t|      [0.025      0.975]\n",
      "------------------------------------------------------------------------------\n",
      "const         -0.0051      0.000    -49.915      0.000      -0.005      -0.005\n",
      "Mkt-RF         0.0100      0.000     75.143      0.000       0.010       0.010\n",
      "SMB           -0.0012      0.000     -5.524      0.000      -0.002      -0.001\n",
      "HML         9.348e-05      0.000      0.380      0.704      -0.000       0.001\n",
      "RMW            0.0006      0.000      1.732      0.084   -7.46e-05       0.001\n",
      "CMA        -6.617e-05      0.000     -0.173      0.863      -0.001       0.001\n",
      "==============================================================================\n",
      "Omnibus:                       14.441   Durbin-Watson:                   0.171\n",
      "Prob(Omnibus):                  0.001   Jarque-Bera (JB):                9.091\n",
      "Skew:                          -0.179   Prob(JB):                       0.0106\n",
      "Kurtosis:                       2.446   Cond. No.                         4.11\n",
      "==============================================================================\n",
      "\n",
      "Warnings:\n",
      "[1] Standard Errors assume that the covariance matrix of the errors is correctly specified.\n",
      "\n",
      "\n",
      "ACWI\n",
      "                            OLS Regression Results                            \n",
      "==============================================================================\n",
      "Dep. Variable:                      0   R-squared:                       0.846\n",
      "Model:                            OLS   Adj. R-squared:                  0.845\n",
      "Method:                 Least Squares   F-statistic:                     545.9\n",
      "Date:                Tue, 24 Mar 2020   Prob (F-statistic):          8.51e-199\n",
      "Time:                        21:17:05   Log-Likelihood:                 2172.7\n",
      "No. Observations:                 501   AIC:                            -4333.\n",
      "Df Residuals:                     495   BIC:                            -4308.\n",
      "Df Model:                           5                                         \n",
      "Covariance Type:            nonrobust                                         \n",
      "==============================================================================\n",
      "                 coef    std err          t      P>|t|      [0.025      0.975]\n",
      "------------------------------------------------------------------------------\n",
      "const         -0.0052      0.000    -36.055      0.000      -0.005      -0.005\n",
      "Mkt-RF         0.0090      0.000     48.304      0.000       0.009       0.009\n",
      "SMB           -0.0007      0.000     -2.485      0.013      -0.001      -0.000\n",
      "HML        -4.924e-05      0.000     -0.144      0.885      -0.001       0.001\n",
      "RMW        -9.455e-05      0.000     -0.212      0.832      -0.001       0.001\n",
      "CMA            0.0004      0.001      0.810      0.419      -0.001       0.001\n",
      "==============================================================================\n",
      "Omnibus:                       14.117   Durbin-Watson:                   0.910\n",
      "Prob(Omnibus):                  0.001   Jarque-Bera (JB):               14.862\n",
      "Skew:                          -0.370   Prob(JB):                     0.000593\n",
      "Kurtosis:                       3.407   Cond. No.                         4.11\n",
      "==============================================================================\n",
      "\n",
      "Warnings:\n",
      "[1] Standard Errors assume that the covariance matrix of the errors is correctly specified.\n",
      "\n",
      "\n"
     ]
    }
   ],
   "source": [
    "#Perform 5 factors model for ETF daily return \n",
    "for i in range(2): \n",
    "    print(ETF_Ticker[i])\n",
    "    Y = pd.DataFrame(ETF[i]['return'] - FF5_factors['RF'])\n",
    "    X = FF5_factors[['Mkt-RF','SMB','HML','RMW','CMA']]\n",
    "    OLS(Y,X)"
   ]
  },
  {
   "cell_type": "markdown",
   "metadata": {},
   "source": [
    "US Five Factors Model with Optimization Schemes"
   ]
  },
  {
   "cell_type": "markdown",
   "metadata": {},
   "source": [
    "Ridge"
   ]
  },
  {
   "cell_type": "code",
   "execution_count": 123,
   "metadata": {},
   "outputs": [
    {
     "name": "stdout",
     "output_type": "stream",
     "text": [
      "(451, 5)\n",
      "(51, 5)\n"
     ]
    }
   ],
   "source": [
    "X_train, X_test, y_train, y_test = train_test_split(X, Y, test_size=0.10, random_state=30)\n",
    "print(X_train.shape); print(X_test.shape)\n"
   ]
  },
  {
   "cell_type": "code",
   "execution_count": 124,
   "metadata": {},
   "outputs": [
    {
     "data": {
      "text/plain": [
       "Ridge(alpha=0.01, copy_X=True, fit_intercept=True, max_iter=None,\n",
       "   normalize=False, random_state=None, solver='auto', tol=0.001)"
      ]
     },
     "execution_count": 124,
     "metadata": {},
     "output_type": "execute_result"
    }
   ],
   "source": [
    "rr = Ridge(alpha=0.01)\n",
    "rr.fit(X_train, y_train) "
   ]
  },
  {
   "cell_type": "code",
   "execution_count": 125,
   "metadata": {},
   "outputs": [
    {
     "name": "stdout",
     "output_type": "stream",
     "text": [
      "Mean-Error-squared:\t 0.003209689855989136\n",
      "R-squared:\t\t 0.8423051000031214\n",
      "Mean-Error-squared:\t 0.002739173614991287\n",
      "R-squared:\t\t 0.871729572654326\n"
     ]
    }
   ],
   "source": [
    "pred_train_rr= rr.predict(X_train)\n",
    "print(\"Mean-Error-squared:\\t\",np.sqrt(mean_squared_error(y_train,pred_train_rr)))\n",
    "print(\"R-squared:\\t\\t\",r2_score(y_train, pred_train_rr))\n",
    "\n",
    "pred_test_rr= rr.predict(X_test)\n",
    "\n",
    "print(\"Mean-Error-squared:\\t\",np.sqrt(mean_squared_error(y_test.fillna(0),pred_test_rr))) \n",
    "print(\"R-squared:\\t\\t\", r2_score(y_test.fillna(0), pred_test_rr))"
   ]
  },
  {
   "cell_type": "markdown",
   "metadata": {},
   "source": [
    "Lasso"
   ]
  },
  {
   "cell_type": "code",
   "execution_count": 126,
   "metadata": {},
   "outputs": [
    {
     "data": {
      "text/plain": [
       "Lasso(alpha=0.01, copy_X=True, fit_intercept=True, max_iter=1000,\n",
       "   normalize=False, positive=False, precompute=False, random_state=None,\n",
       "   selection='cyclic', tol=0.0001, warm_start=False)"
      ]
     },
     "execution_count": 126,
     "metadata": {},
     "output_type": "execute_result"
    }
   ],
   "source": [
    "model_lasso = Lasso(alpha=0.01)\n",
    "model_lasso.fit(X_train, y_train) \n"
   ]
  },
  {
   "cell_type": "code",
   "execution_count": 127,
   "metadata": {},
   "outputs": [
    {
     "name": "stdout",
     "output_type": "stream",
     "text": [
      "Mean-Error-squared:\t 0.00808265879444137\n",
      "R-squared:\t\t 0.0\n",
      "Mean-Error-squared:\t 0.008013658928346297\n",
      "R-squared:\t\t -0.09786548284622243\n"
     ]
    }
   ],
   "source": [
    "pred_train_lasso= model_lasso.predict(X_train)\n",
    "\n",
    "print(\"Mean-Error-squared:\\t\",np.sqrt(mean_squared_error(y_train,pred_train_lasso)))\n",
    "print(\"R-squared:\\t\\t\",r2_score(y_train, pred_train_lasso))\n",
    "\n",
    "pred_test_lasso= model_lasso.predict(X_test)\n",
    "print(\"Mean-Error-squared:\\t\",np.sqrt(mean_squared_error(y_test.fillna(0),pred_test_lasso))) \n",
    "print(\"R-squared:\\t\\t\",r2_score(y_test.fillna(0), pred_test_lasso))"
   ]
  },
  {
   "cell_type": "markdown",
   "metadata": {},
   "source": [
    "Elastic Net"
   ]
  },
  {
   "cell_type": "code",
   "execution_count": 128,
   "metadata": {},
   "outputs": [
    {
     "name": "stdout",
     "output_type": "stream",
     "text": [
      "Mean-Error-squared:\t 0.006780451468850084\n",
      "R-squared:\t\t 0.2962656783866685\n",
      "Mean-Error-squared:\t 0.006751534946403063\n",
      "R-squared:\t\t 0.22072191673669528\n"
     ]
    }
   ],
   "source": [
    "\n",
    "model_enet = ElasticNet(alpha = 0.01)\n",
    "model_enet.fit(X_train, y_train) \n",
    "pred_train_enet= model_enet.predict(X_train)\n",
    "print(\"Mean-Error-squared:\\t\",np.sqrt(mean_squared_error(y_train,pred_train_enet)))\n",
    "print(\"R-squared:\\t\\t\",r2_score(y_train, pred_train_enet))\n",
    "\n",
    "pred_test_enet= model_enet.predict(X_test)\n",
    "print(\"Mean-Error-squared:\\t\",np.sqrt(mean_squared_error(y_test.fillna(0),pred_test_enet)))\n",
    "print(\"R-squared:\\t\\t\",r2_score(y_test.fillna(0), pred_test_enet))"
   ]
  },
  {
   "cell_type": "markdown",
   "metadata": {},
   "source": [
    "As shown, US Three, Four and Five Factors Models with Ridge outperform Other Factors Models. "
   ]
  }
 ],
 "metadata": {
  "kernelspec": {
   "display_name": "Python 3",
   "language": "python",
   "name": "python3"
  },
  "language_info": {
   "codemirror_mode": {
    "name": "ipython",
    "version": 3
   },
   "file_extension": ".py",
   "mimetype": "text/x-python",
   "name": "python",
   "nbconvert_exporter": "python",
   "pygments_lexer": "ipython3",
   "version": "3.5.6"
  }
 },
 "nbformat": 4,
 "nbformat_minor": 2
}
