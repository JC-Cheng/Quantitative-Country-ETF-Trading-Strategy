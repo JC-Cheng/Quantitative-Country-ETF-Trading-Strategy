{
 "cells": [
  {
   "cell_type": "code",
   "execution_count": 1,
   "metadata": {},
   "outputs": [],
   "source": [
    "#import the working library\n",
    "import numpy as np\n",
    "import pandas as pd"
   ]
  },
  {
   "cell_type": "code",
   "execution_count": 2,
   "metadata": {},
   "outputs": [],
   "source": [
    "#read values in tickers as specified in excel \n",
    "all_tickers = pd.read_excel('mapping.xlsx')['Ticker'].values"
   ]
  },
  {
   "cell_type": "code",
   "execution_count": 3,
   "metadata": {},
   "outputs": [
    {
     "data": {
      "text/plain": [
       "array(['ARGT', 'EWA', 'EWO', 'EWK', 'EWZ', 'EWC', 'ECH', 'MCHI', 'ICOL',\n",
       "       'EDEN', 'EGPT', 'EFNL', 'EWQ', 'EWG', 'GREK', 'EWH', 'INDA',\n",
       "       'EIDO', 'EIRL', 'EIS', 'EWI', 'EWJ', 'EWY', 'EWM', 'EWW', 'EWN',\n",
       "       'ENZL', 'ENOR', 'PAK', 'EPU', 'EPHE', 'EPOL', 'PGAL', 'QAT',\n",
       "       'ERUS', 'KSA', 'EWS', 'EZA', 'EWP', 'EWD', 'EWL', 'EWT', 'THD',\n",
       "       'TUR', 'UAE', 'EWU', 'VOO'], dtype=object)"
      ]
     },
     "execution_count": 3,
     "metadata": {},
     "output_type": "execute_result"
    }
   ],
   "source": [
    "#list result\n",
    "all_tickers"
   ]
  },
  {
   "cell_type": "code",
   "execution_count": 4,
   "metadata": {},
   "outputs": [],
   "source": [
    "#specified amount of trading days as in 1 month, 3 months and 12 months\n",
    "days = [21, 63, 252]"
   ]
  },
  {
   "cell_type": "code",
   "execution_count": 5,
   "metadata": {},
   "outputs": [],
   "source": [
    "#save all adjusted close and factor by day and ticker\n",
    "for ticker in all_tickers:\n",
    "    price_df = pd.read_csv('price data/'+ticker+'.csv', index_col='Date')\n",
    "    for day in days:\n",
    "        price_df['mom_'+str(day)] = price_df['Adj Close']/price_df['Adj Close'].shift(day)-1\n",
    "        price_df[['mom_'+str(day)]].dropna().to_csv('factor data/'+'mom_'+str(day)+'/'+ticker+'.csv')"
   ]
  },
  {
   "cell_type": "code",
   "execution_count": 6,
   "metadata": {},
   "outputs": [],
   "source": [
    "#save all rolling adjusted close and factor by day and ticker\n",
    "for ticker in all_tickers:\n",
    "    price_df = pd.read_csv('price data/'+ticker+'.csv', index_col='Date')\n",
    "    for day in days:\n",
    "        price_df['mr_'+str(day)] = price_df['Adj Close']/price_df['Adj Close'].rolling(day).mean()-1\n",
    "        price_df[['mr_'+str(day)]].dropna().to_csv('factor data/'+'mr_'+str(day)+'/'+ticker+'.csv')"
   ]
  },
  {
   "cell_type": "code",
   "execution_count": null,
   "metadata": {},
   "outputs": [],
   "source": []
  }
 ],
 "metadata": {
  "kernelspec": {
   "display_name": "Python 3",
   "language": "python",
   "name": "python3"
  },
  "language_info": {
   "codemirror_mode": {
    "name": "ipython",
    "version": 3
   },
   "file_extension": ".py",
   "mimetype": "text/x-python",
   "name": "python",
   "nbconvert_exporter": "python",
   "pygments_lexer": "ipython3",
   "version": "3.7.4"
  }
 },
 "nbformat": 4,
 "nbformat_minor": 2
}
