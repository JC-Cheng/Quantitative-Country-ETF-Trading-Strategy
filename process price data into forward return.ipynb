{
 "cells": [
  {
   "cell_type": "code",
   "execution_count": 1,
   "metadata": {},
   "outputs": [],
   "source": [
    "#import the working library\n",
    "import numpy as np\n",
    "import pandas as pd"
   ]
  },
  {
   "cell_type": "code",
   "execution_count": 3,
   "metadata": {},
   "outputs": [],
   "source": [
    "#read ticker values as specified in excel in addition to ACWI \n",
    "all_tickers = np.append(pd.read_excel('mapping.xlsx')['Ticker'].values, 'ACWI')"
   ]
  },
  {
   "cell_type": "code",
   "execution_count": 4,
   "metadata": {},
   "outputs": [
    {
     "data": {
      "text/plain": [
       "array(['ARGT', 'EWA', 'EWO', 'EWK', 'EWZ', 'EWC', 'ECH', 'MCHI', 'ICOL',\n",
       "       'EDEN', 'EGPT', 'EFNL', 'EWQ', 'EWG', 'GREK', 'EWH', 'INDA',\n",
       "       'EIDO', 'EIRL', 'EIS', 'EWI', 'EWJ', 'EWY', 'EWM', 'EWW', 'EWN',\n",
       "       'ENZL', 'ENOR', 'PAK', 'EPU', 'EPHE', 'EPOL', 'PGAL', 'QAT',\n",
       "       'ERUS', 'KSA', 'EWS', 'EZA', 'EWP', 'EWD', 'EWL', 'EWT', 'THD',\n",
       "       'TUR', 'UAE', 'EWU', 'VOO', 'ACWI'], dtype=object)"
      ]
     },
     "execution_count": 4,
     "metadata": {},
     "output_type": "execute_result"
    }
   ],
   "source": [
    "#list result\n",
    "all_tickers"
   ]
  },
  {
   "cell_type": "code",
   "execution_count": 5,
   "metadata": {},
   "outputs": [],
   "source": [
    "#specified amount of trading days as in 1 month\n",
    "day = 21"
   ]
  },
  {
   "cell_type": "code",
   "execution_count": 6,
   "metadata": {},
   "outputs": [],
   "source": [
    "#save all adjusted close and forward return by day and ticker\n",
    "for ticker in all_tickers:\n",
    "    price_df = pd.read_csv('price data/'+ticker+'.csv', index_col='Date')\n",
    "    price_df['f_rtn'] = price_df['Adj Close'].shift(-day)/price_df['Adj Close']-1\n",
    "    price_df[['f_rtn']].dropna().to_csv('forward return/'+ticker+'.csv')"
   ]
  },
  {
   "cell_type": "code",
   "execution_count": null,
   "metadata": {},
   "outputs": [],
   "source": []
  }
 ],
 "metadata": {
  "kernelspec": {
   "display_name": "Python 3",
   "language": "python",
   "name": "python3"
  },
  "language_info": {
   "codemirror_mode": {
    "name": "ipython",
    "version": 3
   },
   "file_extension": ".py",
   "mimetype": "text/x-python",
   "name": "python",
   "nbconvert_exporter": "python",
   "pygments_lexer": "ipython3",
   "version": "3.5.6"
  }
 },
 "nbformat": 4,
 "nbformat_minor": 2
}
